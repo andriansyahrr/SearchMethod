{
 "cells": [
  {
   "cell_type": "code",
   "execution_count": 49,
   "id": "462b5aad",
   "metadata": {},
   "outputs": [],
   "source": [
    "import numpy as np\n",
    "#x = symbols('x')\n",
    "# p = 0.382\n",
    "# Interval1 = 0\n",
    "# Interval2 = 2\n",
    "# range = 0.3"
   ]
  },
  {
   "cell_type": "code",
   "execution_count": 9,
   "id": "63b76551",
   "metadata": {},
   "outputs": [],
   "source": [
    "# x1 = float(input(\"masukkan nilai x1: \"))\n",
    "# x2 = float(input(\"masukkan nilai x2: \"))\n",
    "from sympy import *\n",
    "# x = Symbol('x')\n",
    "# f = x**4 - 14*x**3+60*x**2-70*x\n",
    "def f(x):\n",
    "    return x**4 - 14*x**3+60*x**2-70*x\n",
    "# print(f(x1))\n",
    "# print(f(x2))\n",
    "# print(g(x1))\n",
    "# print(g(x2))"
   ]
  },
  {
   "cell_type": "code",
   "execution_count": 10,
   "id": "b6250d02",
   "metadata": {},
   "outputs": [],
   "source": [
    "def CheckConvergence(p, initial0, initial1, accur):\n",
    "    N = 1\n",
    "    while ((1-p)**N) >= (accur/(initial1 - initial0)):\n",
    "        N+=1\n",
    "    return N "
   ]
  },
  {
   "cell_type": "code",
   "execution_count": 11,
   "id": "5d7b21a3",
   "metadata": {
    "scrolled": true
   },
   "outputs": [],
   "source": [
    "def GoldenSectionMethod(a0, b0, accur):\n",
    "    p = 0.382\n",
    "    j = CheckConvergence(p, a0, b0, accur)\n",
    "    print(\"First init\")\n",
    "    i=1\n",
    "    if i == 1:\n",
    "            a1 = a0 + p*(b0-a0)\n",
    "            b1 = a0 + (1-p)*(b0-a0)\n",
    "            if f(a1) < f(b1):\n",
    "                b0 = b1\n",
    "                b1 = a1\n",
    "                a1 = a0 + p*(b0-a0)\n",
    "            else:\n",
    "                a0 = a1\n",
    "                a1 = b1\n",
    "                b1 = a0 + (1-p)*(b0-a0)\n",
    "            print(i, a0, a1, b1, b0)\n",
    "            print(f(a1), f(b1))\n",
    "            print('Interval [{:.3f}, {:.3f}]'.format(a0, b0))\n",
    "            i +=1\n",
    "    while i<=j:\n",
    "        if f(a1) < f(b1):\n",
    "            b0 = b1\n",
    "            b1 = a1\n",
    "            a1 = a0 + p*(b0-a0)\n",
    "            print(i, a0, a1, b1, b0)\n",
    "            print(f(a1), f(b1))\n",
    "            print('Interval [{:.3f}, {:.3f}]'.format(a0, b0))\n",
    "        else:\n",
    "            a0 = a1\n",
    "            a1 = b1\n",
    "            b1 = a0 + (1-p)*(b0-a0)\n",
    "            print(i,a0, a1, b1, b0)\n",
    "            print(f(a1), f(b1))\n",
    "            print('Interval [{:.3f}, {:.3f}]'.format(a0, b0))\n",
    "        i+=1\n",
    "    print(\"Hasil akhir di interval [{:.3f}, {:.3f}]\".format(a0, b0))"
   ]
  },
  {
   "cell_type": "code",
   "execution_count": 12,
   "id": "e4ace639",
   "metadata": {
    "scrolled": true
   },
   "outputs": [
    {
     "name": "stdout",
     "output_type": "stream",
     "text": [
      "First init\n",
      "1 0 0.472152 0.764 1.236\n",
      "-21.098872041671836 -24.360751395584003\n",
      "Interval [0.000, 1.236]\n",
      "2 0.472152 0.764 0.944210064 1.236\n",
      "-24.360751395584003 -23.5930326660056\n",
      "Interval [0.472, 1.236]\n",
      "3 0.472152 0.652478180448 0.764 0.944210064\n",
      "-23.837455119242016 -24.360751395584003\n",
      "Interval [0.472, 0.944]\n",
      "4 0.652478180448 0.764 0.832768484483136 0.944210064\n",
      "-24.360751395584003 -24.288034352289884\n",
      "Interval [0.652, 0.944]\n",
      "Hasil akhir di interval [0.652, 0.944]\n"
     ]
    }
   ],
   "source": [
    "GoldenSectionMethod(0, 2, 0.3)"
   ]
  },
  {
   "cell_type": "code",
   "execution_count": 13,
   "id": "936023f8",
   "metadata": {},
   "outputs": [],
   "source": [
    "def CheckConvergenceFSM(e, initial0, initial1, accur):  \n",
    "    fib = [1]*30\n",
    "    for i in range(2, 30):\n",
    "        fib[i] = fib[i-1] + fib[i-2]\n",
    "    n = 1\n",
    "    while fib[n+1]<=(1 + 2*e)/(accur/(initial1 - initial0)):\n",
    "        n+=1\n",
    "    return int(n)"
   ]
  },
  {
   "cell_type": "code",
   "execution_count": 14,
   "id": "46f71fbb",
   "metadata": {},
   "outputs": [],
   "source": [
    "def FiboSearchMethod(e, a0, b0, accur):\n",
    "    n = CheckConvergenceFSM(e, a0, b0, accur)\n",
    "    m = n\n",
    "    i = 1\n",
    "    j = 0\n",
    "    k = 0\n",
    "    fib = [1]*30\n",
    "    p = [0]*(n-1)\n",
    "    for i in range(2, 30):\n",
    "        fib[i] = fib[i-1] + fib[i-2]\n",
    "    while n-1 >= 1:\n",
    "        print(n, j, m)\n",
    "        p[j] = 1 - (fib[n-1]/fib[n])\n",
    "        if j == m-2:\n",
    "            p[j] -= e\n",
    "        n-=1\n",
    "        j+=1\n",
    "    i=1\n",
    "    if k == 0:\n",
    "        a1 = a0 + p[k]*(b0-a0)\n",
    "        b1 = a0 + (1-p[k])*(b0-a0)\n",
    "        if f(a1) < f(b1):\n",
    "            b0 = b1\n",
    "            b1 = a1\n",
    "            a1 = a0 + p[k]*(b0-a0)\n",
    "        else:\n",
    "            a0 = a1\n",
    "            a1 = b1\n",
    "            b1 = a0 + (1-p[k])*(b0-a0)\n",
    "        print('p[{}] = {:.3f}'. format(k, p[k]))\n",
    "        print(i, a0, a1, b1, b0)\n",
    "        print(f(a1), f(b1))\n",
    "        print('Interval [{:.3f}, {:.3f}]'.format(a0, b0))\n",
    "        k += 1\n",
    "        i += 1\n",
    "    while k < j:\n",
    "        print('p[{}] = {:.3f}'. format(k, p[k]))\n",
    "        if f(a1) < f(b1):\n",
    "          b0 = b1\n",
    "          b1 = a1\n",
    "          a1 = a0 + p[k]*(b0-a0)\n",
    "          print(i, a0, a1, b1, b0)\n",
    "          print(f(a1), f(b1))\n",
    "          k+=1\n",
    "          i+=1\n",
    "        else:\n",
    "          a0 = a1\n",
    "          a1 = b1\n",
    "          b1 = a0 + (1-p[k])*(b0-a0)\n",
    "          print(i,a0, a1, b1, b0)\n",
    "          print(f(a1), f(b1))\n",
    "          k+=1\n",
    "          i+=1\n",
    "        print(\"Hasil akhir di interval [{:.3f}, {:.3f}]\".format(a0, b0))"
   ]
  },
  {
   "cell_type": "code",
   "execution_count": 15,
   "id": "4cd09191",
   "metadata": {},
   "outputs": [
    {
     "name": "stdout",
     "output_type": "stream",
     "text": [
      "5 0 5\n",
      "4 1 5\n",
      "3 2 5\n",
      "2 3 5\n",
      "p[0] = 0.375\n",
      "1 0 0.46875 0.75 1.25\n",
      "-21.022582054138184 -24.33984375\n",
      "Interval [0.000, 1.250]\n",
      "p[1] = 0.400\n",
      "2 0.46875 0.75 0.9375 1.25\n",
      "-24.33984375 -23.653793334960938\n",
      "Hasil akhir di interval [0.469, 1.250]\n",
      "p[2] = 0.333\n",
      "3 0.46875 0.625 0.75 0.9375\n",
      "-23.577880859375 -24.33984375\n",
      "Hasil akhir di interval [0.469, 0.938]\n",
      "p[3] = 0.400\n",
      "4 0.625 0.75 0.8125 0.9375\n",
      "-24.33984375 -24.339096069335938\n",
      "Hasil akhir di interval [0.625, 0.938]\n"
     ]
    }
   ],
   "source": [
    "FiboSearchMethod(0.1, 0, 2, 0.3)"
   ]
  },
  {
   "cell_type": "code",
   "execution_count": 22,
   "id": "d484ac62",
   "metadata": {},
   "outputs": [
    {
     "ename": "SympifyError",
     "evalue": "Sympify of expression 'could not parse '<function f at 0x00000210F4B5B1F0>'' failed, because of exception being raised:\nSyntaxError: invalid syntax (<string>, line 1)",
     "output_type": "error",
     "traceback": [
      "\u001b[1;31m---------------------------------------------------------------------------\u001b[0m",
      "\u001b[1;31mValueError\u001b[0m                                Traceback (most recent call last)",
      "\u001b[1;31mValueError\u001b[0m: Error from parse_expr with transformed code: \"<Symbol ('function' )Symbol ('f' )Symbol ('at' )Integer (0x00000210F4B5B1F0 )>\"",
      "\nThe above exception was the direct cause of the following exception:\n",
      "\u001b[1;31mSyntaxError\u001b[0m                               Traceback (most recent call last)",
      "File \u001b[1;32m~\\AppData\\Local\\Programs\\Python\\Python39\\lib\\site-packages\\sympy\\core\\sympify.py:496\u001b[0m, in \u001b[0;36msympify\u001b[1;34m(a, locals, convert_xor, strict, rational, evaluate)\u001b[0m\n\u001b[0;32m    495\u001b[0m     a \u001b[38;5;241m=\u001b[39m a\u001b[38;5;241m.\u001b[39mreplace(\u001b[38;5;124m'\u001b[39m\u001b[38;5;130;01m\\n\u001b[39;00m\u001b[38;5;124m'\u001b[39m, \u001b[38;5;124m'\u001b[39m\u001b[38;5;124m'\u001b[39m)\n\u001b[1;32m--> 496\u001b[0m     expr \u001b[38;5;241m=\u001b[39m \u001b[43mparse_expr\u001b[49m\u001b[43m(\u001b[49m\u001b[43ma\u001b[49m\u001b[43m,\u001b[49m\u001b[43m \u001b[49m\u001b[43mlocal_dict\u001b[49m\u001b[38;5;241;43m=\u001b[39;49m\u001b[38;5;28;43mlocals\u001b[39;49m\u001b[43m,\u001b[49m\u001b[43m \u001b[49m\u001b[43mtransformations\u001b[49m\u001b[38;5;241;43m=\u001b[39;49m\u001b[43mtransformations\u001b[49m\u001b[43m,\u001b[49m\u001b[43m \u001b[49m\u001b[43mevaluate\u001b[49m\u001b[38;5;241;43m=\u001b[39;49m\u001b[43mevaluate\u001b[49m\u001b[43m)\u001b[49m\n\u001b[0;32m    497\u001b[0m \u001b[38;5;28;01mexcept\u001b[39;00m (TokenError, \u001b[38;5;167;01mSyntaxError\u001b[39;00m) \u001b[38;5;28;01mas\u001b[39;00m exc:\n",
      "File \u001b[1;32m~\\AppData\\Local\\Programs\\Python\\Python39\\lib\\site-packages\\sympy\\parsing\\sympy_parser.py:1101\u001b[0m, in \u001b[0;36mparse_expr\u001b[1;34m(s, local_dict, transformations, global_dict, evaluate)\u001b[0m\n\u001b[0;32m   1100\u001b[0m     local_dict[i] \u001b[38;5;241m=\u001b[39m null\n\u001b[1;32m-> 1101\u001b[0m \u001b[38;5;28;01mraise\u001b[39;00m e \u001b[38;5;28;01mfrom\u001b[39;00m \u001b[38;5;21;01mValueError\u001b[39;00m(\u001b[38;5;124mf\u001b[39m\u001b[38;5;124m\"\u001b[39m\u001b[38;5;124mError from parse_expr with transformed code: \u001b[39m\u001b[38;5;132;01m{\u001b[39;00mcode\u001b[38;5;132;01m!r}\u001b[39;00m\u001b[38;5;124m\"\u001b[39m)\n",
      "File \u001b[1;32m~\\AppData\\Local\\Programs\\Python\\Python39\\lib\\site-packages\\sympy\\parsing\\sympy_parser.py:1092\u001b[0m, in \u001b[0;36mparse_expr\u001b[1;34m(s, local_dict, transformations, global_dict, evaluate)\u001b[0m\n\u001b[0;32m   1091\u001b[0m \u001b[38;5;28;01mtry\u001b[39;00m:\n\u001b[1;32m-> 1092\u001b[0m     rv \u001b[38;5;241m=\u001b[39m \u001b[43meval_expr\u001b[49m\u001b[43m(\u001b[49m\u001b[43mcode\u001b[49m\u001b[43m,\u001b[49m\u001b[43m \u001b[49m\u001b[43mlocal_dict\u001b[49m\u001b[43m,\u001b[49m\u001b[43m \u001b[49m\u001b[43mglobal_dict\u001b[49m\u001b[43m)\u001b[49m\n\u001b[0;32m   1093\u001b[0m     \u001b[38;5;66;03m# restore neutral definitions for names\u001b[39;00m\n",
      "File \u001b[1;32m~\\AppData\\Local\\Programs\\Python\\Python39\\lib\\site-packages\\sympy\\parsing\\sympy_parser.py:907\u001b[0m, in \u001b[0;36meval_expr\u001b[1;34m(code, local_dict, global_dict)\u001b[0m\n\u001b[0;32m    902\u001b[0m \u001b[38;5;124;03m\"\"\"\u001b[39;00m\n\u001b[0;32m    903\u001b[0m \u001b[38;5;124;03mEvaluate Python code generated by ``stringify_expr``.\u001b[39;00m\n\u001b[0;32m    904\u001b[0m \n\u001b[0;32m    905\u001b[0m \u001b[38;5;124;03mGenerally, ``parse_expr`` should be used.\u001b[39;00m\n\u001b[0;32m    906\u001b[0m \u001b[38;5;124;03m\"\"\"\u001b[39;00m\n\u001b[1;32m--> 907\u001b[0m expr \u001b[38;5;241m=\u001b[39m \u001b[38;5;28;43meval\u001b[39;49m\u001b[43m(\u001b[49m\n\u001b[0;32m    908\u001b[0m \u001b[43m    \u001b[49m\u001b[43mcode\u001b[49m\u001b[43m,\u001b[49m\u001b[43m \u001b[49m\u001b[43mglobal_dict\u001b[49m\u001b[43m,\u001b[49m\u001b[43m \u001b[49m\u001b[43mlocal_dict\u001b[49m\u001b[43m)\u001b[49m  \u001b[38;5;66;03m# take local objects in preference\u001b[39;00m\n\u001b[0;32m    909\u001b[0m \u001b[38;5;28;01mreturn\u001b[39;00m expr\n",
      "\u001b[1;31mSyntaxError\u001b[0m: invalid syntax (<string>, line 1)",
      "\nDuring handling of the above exception, another exception occurred:\n",
      "\u001b[1;31mSympifyError\u001b[0m                              Traceback (most recent call last)",
      "Input \u001b[1;32mIn [22]\u001b[0m, in \u001b[0;36m<cell line: 4>\u001b[1;34m()\u001b[0m\n\u001b[0;32m      2\u001b[0m x \u001b[38;5;241m=\u001b[39m Symbol(\u001b[38;5;124m'\u001b[39m\u001b[38;5;124mx\u001b[39m\u001b[38;5;124m'\u001b[39m)\n\u001b[0;32m      3\u001b[0m g \u001b[38;5;241m=\u001b[39m x\u001b[38;5;241m*\u001b[39m\u001b[38;5;241m*\u001b[39m\u001b[38;5;241m4\u001b[39m \u001b[38;5;241m-\u001b[39m \u001b[38;5;241m14\u001b[39m\u001b[38;5;241m*\u001b[39mx\u001b[38;5;241m*\u001b[39m\u001b[38;5;241m*\u001b[39m\u001b[38;5;241m3\u001b[39m\u001b[38;5;241m+\u001b[39m\u001b[38;5;241m60\u001b[39m\u001b[38;5;241m*\u001b[39mx\u001b[38;5;241m*\u001b[39m\u001b[38;5;241m*\u001b[39m\u001b[38;5;241m2\u001b[39m\u001b[38;5;241m-\u001b[39m\u001b[38;5;241m70\u001b[39m\u001b[38;5;241m*\u001b[39mx\n\u001b[1;32m----> 4\u001b[0m h \u001b[38;5;241m=\u001b[39m \u001b[43mlambdify\u001b[49m\u001b[43m(\u001b[49m\u001b[43mx\u001b[49m\u001b[43m,\u001b[49m\u001b[43m \u001b[49m\u001b[43mf\u001b[49m\u001b[43m)\u001b[49m\n",
      "File \u001b[1;32m~\\AppData\\Local\\Programs\\Python\\Python39\\lib\\site-packages\\sympy\\utilities\\lambdify.py:863\u001b[0m, in \u001b[0;36mlambdify\u001b[1;34m(args, expr, modules, printer, use_imps, dummify, cse)\u001b[0m\n\u001b[0;32m    861\u001b[0m \u001b[38;5;28;01melse\u001b[39;00m:\n\u001b[0;32m    862\u001b[0m     cses, _expr \u001b[38;5;241m=\u001b[39m (), expr\n\u001b[1;32m--> 863\u001b[0m funcstr \u001b[38;5;241m=\u001b[39m \u001b[43mfuncprinter\u001b[49m\u001b[38;5;241;43m.\u001b[39;49m\u001b[43mdoprint\u001b[49m\u001b[43m(\u001b[49m\u001b[43mfuncname\u001b[49m\u001b[43m,\u001b[49m\u001b[43m \u001b[49m\u001b[43miterable_args\u001b[49m\u001b[43m,\u001b[49m\u001b[43m \u001b[49m\u001b[43m_expr\u001b[49m\u001b[43m,\u001b[49m\u001b[43m \u001b[49m\u001b[43mcses\u001b[49m\u001b[38;5;241;43m=\u001b[39;49m\u001b[43mcses\u001b[49m\u001b[43m)\u001b[49m\n\u001b[0;32m    865\u001b[0m \u001b[38;5;66;03m# Collect the module imports from the code printers.\u001b[39;00m\n\u001b[0;32m    866\u001b[0m imp_mod_lines \u001b[38;5;241m=\u001b[39m []\n",
      "File \u001b[1;32m~\\AppData\\Local\\Programs\\Python\\Python39\\lib\\site-packages\\sympy\\utilities\\lambdify.py:1147\u001b[0m, in \u001b[0;36m_EvaluatorPrinter.doprint\u001b[1;34m(self, funcname, args, expr, cses)\u001b[0m\n\u001b[0;32m   1144\u001b[0m     \u001b[38;5;28;01melse\u001b[39;00m:\n\u001b[0;32m   1145\u001b[0m         funcbody\u001b[38;5;241m.\u001b[39mappend(\u001b[38;5;124m'\u001b[39m\u001b[38;5;132;01m{}\u001b[39;00m\u001b[38;5;124m = \u001b[39m\u001b[38;5;132;01m{}\u001b[39;00m\u001b[38;5;124m'\u001b[39m\u001b[38;5;241m.\u001b[39mformat(s, \u001b[38;5;28mself\u001b[39m\u001b[38;5;241m.\u001b[39m_exprrepr(e)))\n\u001b[1;32m-> 1147\u001b[0m str_expr \u001b[38;5;241m=\u001b[39m \u001b[43m_recursive_to_string\u001b[49m\u001b[43m(\u001b[49m\u001b[38;5;28;43mself\u001b[39;49m\u001b[38;5;241;43m.\u001b[39;49m\u001b[43m_exprrepr\u001b[49m\u001b[43m,\u001b[49m\u001b[43m \u001b[49m\u001b[43mexpr\u001b[49m\u001b[43m)\u001b[49m\n\u001b[0;32m   1149\u001b[0m \u001b[38;5;28;01mif\u001b[39;00m \u001b[38;5;124m'\u001b[39m\u001b[38;5;130;01m\\n\u001b[39;00m\u001b[38;5;124m'\u001b[39m \u001b[38;5;129;01min\u001b[39;00m str_expr:\n\u001b[0;32m   1150\u001b[0m     str_expr \u001b[38;5;241m=\u001b[39m \u001b[38;5;124m'\u001b[39m\u001b[38;5;124m(\u001b[39m\u001b[38;5;132;01m{}\u001b[39;00m\u001b[38;5;124m)\u001b[39m\u001b[38;5;124m'\u001b[39m\u001b[38;5;241m.\u001b[39mformat(str_expr)\n",
      "File \u001b[1;32m~\\AppData\\Local\\Programs\\Python\\Python39\\lib\\site-packages\\sympy\\utilities\\lambdify.py:956\u001b[0m, in \u001b[0;36m_recursive_to_string\u001b[1;34m(doprint, arg)\u001b[0m\n\u001b[0;32m    954\u001b[0m     \u001b[38;5;28;01mreturn\u001b[39;00m arg\n\u001b[0;32m    955\u001b[0m \u001b[38;5;28;01melse\u001b[39;00m:\n\u001b[1;32m--> 956\u001b[0m     \u001b[38;5;28;01mreturn\u001b[39;00m \u001b[43mdoprint\u001b[49m\u001b[43m(\u001b[49m\u001b[43marg\u001b[49m\u001b[43m)\u001b[49m\n",
      "File \u001b[1;32m~\\AppData\\Local\\Programs\\Python\\Python39\\lib\\site-packages\\sympy\\printing\\codeprinter.py:152\u001b[0m, in \u001b[0;36mCodePrinter.doprint\u001b[1;34m(self, expr, assign_to)\u001b[0m\n\u001b[0;32m    149\u001b[0m     \u001b[38;5;28;01mreturn\u001b[39;00m Assignment(assign_to, expr)\n\u001b[0;32m    151\u001b[0m expr \u001b[38;5;241m=\u001b[39m _convert_python_lists(expr)\n\u001b[1;32m--> 152\u001b[0m expr \u001b[38;5;241m=\u001b[39m \u001b[43m_handle_assign_to\u001b[49m\u001b[43m(\u001b[49m\u001b[43mexpr\u001b[49m\u001b[43m,\u001b[49m\u001b[43m \u001b[49m\u001b[43massign_to\u001b[49m\u001b[43m)\u001b[49m\n\u001b[0;32m    154\u001b[0m \u001b[38;5;66;03m# Remove re(...) nodes due to UnevaluatedExpr.is_real always is None:\u001b[39;00m\n\u001b[0;32m    155\u001b[0m expr \u001b[38;5;241m=\u001b[39m \u001b[38;5;28mself\u001b[39m\u001b[38;5;241m.\u001b[39m_handle_UnevaluatedExpr(expr)\n",
      "File \u001b[1;32m~\\AppData\\Local\\Programs\\Python\\Python39\\lib\\site-packages\\sympy\\printing\\codeprinter.py:136\u001b[0m, in \u001b[0;36mCodePrinter.doprint.<locals>._handle_assign_to\u001b[1;34m(expr, assign_to)\u001b[0m\n\u001b[0;32m    134\u001b[0m \u001b[38;5;28;01mdef\u001b[39;00m \u001b[38;5;21m_handle_assign_to\u001b[39m(expr, assign_to):\n\u001b[0;32m    135\u001b[0m     \u001b[38;5;28;01mif\u001b[39;00m assign_to \u001b[38;5;129;01mis\u001b[39;00m \u001b[38;5;28;01mNone\u001b[39;00m:\n\u001b[1;32m--> 136\u001b[0m         \u001b[38;5;28;01mreturn\u001b[39;00m \u001b[43msympify\u001b[49m\u001b[43m(\u001b[49m\u001b[43mexpr\u001b[49m\u001b[43m)\u001b[49m\n\u001b[0;32m    137\u001b[0m     \u001b[38;5;28;01mif\u001b[39;00m \u001b[38;5;28misinstance\u001b[39m(assign_to, (\u001b[38;5;28mlist\u001b[39m, \u001b[38;5;28mtuple\u001b[39m)):\n\u001b[0;32m    138\u001b[0m         \u001b[38;5;28;01mif\u001b[39;00m \u001b[38;5;28mlen\u001b[39m(expr) \u001b[38;5;241m!=\u001b[39m \u001b[38;5;28mlen\u001b[39m(assign_to):\n",
      "File \u001b[1;32m~\\AppData\\Local\\Programs\\Python\\Python39\\lib\\site-packages\\sympy\\core\\sympify.py:498\u001b[0m, in \u001b[0;36msympify\u001b[1;34m(a, locals, convert_xor, strict, rational, evaluate)\u001b[0m\n\u001b[0;32m    496\u001b[0m     expr \u001b[38;5;241m=\u001b[39m parse_expr(a, local_dict\u001b[38;5;241m=\u001b[39m\u001b[38;5;28mlocals\u001b[39m, transformations\u001b[38;5;241m=\u001b[39mtransformations, evaluate\u001b[38;5;241m=\u001b[39mevaluate)\n\u001b[0;32m    497\u001b[0m \u001b[38;5;28;01mexcept\u001b[39;00m (TokenError, \u001b[38;5;167;01mSyntaxError\u001b[39;00m) \u001b[38;5;28;01mas\u001b[39;00m exc:\n\u001b[1;32m--> 498\u001b[0m     \u001b[38;5;28;01mraise\u001b[39;00m SympifyError(\u001b[38;5;124m'\u001b[39m\u001b[38;5;124mcould not parse \u001b[39m\u001b[38;5;132;01m%r\u001b[39;00m\u001b[38;5;124m'\u001b[39m \u001b[38;5;241m%\u001b[39m a, exc)\n\u001b[0;32m    500\u001b[0m \u001b[38;5;28;01mreturn\u001b[39;00m expr\n",
      "\u001b[1;31mSympifyError\u001b[0m: Sympify of expression 'could not parse '<function f at 0x00000210F4B5B1F0>'' failed, because of exception being raised:\nSyntaxError: invalid syntax (<string>, line 1)"
     ]
    }
   ],
   "source": [
    "from sympy import *\n",
    "x = Symbol('x')\n",
    "g = x**4 - 14*x**3+60*x**2-70*x\n",
    "h = lambdify(x, g)"
   ]
  },
  {
   "cell_type": "code",
   "execution_count": 23,
   "id": "a4c9e785",
   "metadata": {},
   "outputs": [],
   "source": [
    "def CheckConvergence(p, initial0, initial1, accur):\n",
    "    N = 1\n",
    "    while ((1-p)**N) >= (accur/(initial1 - initial0)):\n",
    "        N+=1\n",
    "    return N \n",
    "def bisectionMethod(a0, b0, accur):\n",
    "    j = CheckConvergence(0.5, a0, b0, accur)\n",
    "    i = 1\n",
    "    while i <= j:\n",
    "        x = (a0 + b0)/2\n",
    "        if h(x) > 0:\n",
    "            b0 = x\n",
    "        elif h(x) < 0:\n",
    "            a0 = x\n",
    "        else:\n",
    "            break\n",
    "        i+=1\n",
    "        print(a0, b0)"
   ]
  },
  {
   "cell_type": "code",
   "execution_count": 24,
   "id": "afaaf91c",
   "metadata": {
    "scrolled": true
   },
   "outputs": [
    {
     "ename": "NameError",
     "evalue": "name 'h' is not defined",
     "output_type": "error",
     "traceback": [
      "\u001b[1;31m---------------------------------------------------------------------------\u001b[0m",
      "\u001b[1;31mNameError\u001b[0m                                 Traceback (most recent call last)",
      "Input \u001b[1;32mIn [24]\u001b[0m, in \u001b[0;36m<cell line: 1>\u001b[1;34m()\u001b[0m\n\u001b[1;32m----> 1\u001b[0m \u001b[43mbisectionMethod\u001b[49m\u001b[43m(\u001b[49m\u001b[38;5;241;43m0\u001b[39;49m\u001b[43m,\u001b[49m\u001b[43m \u001b[49m\u001b[38;5;241;43m2\u001b[39;49m\u001b[43m,\u001b[49m\u001b[43m \u001b[49m\u001b[38;5;241;43m0.3\u001b[39;49m\u001b[43m)\u001b[49m\n",
      "Input \u001b[1;32mIn [23]\u001b[0m, in \u001b[0;36mbisectionMethod\u001b[1;34m(a0, b0, accur)\u001b[0m\n\u001b[0;32m      9\u001b[0m \u001b[38;5;28;01mwhile\u001b[39;00m i \u001b[38;5;241m<\u001b[39m\u001b[38;5;241m=\u001b[39m j:\n\u001b[0;32m     10\u001b[0m     x \u001b[38;5;241m=\u001b[39m (a0 \u001b[38;5;241m+\u001b[39m b0)\u001b[38;5;241m/\u001b[39m\u001b[38;5;241m2\u001b[39m\n\u001b[1;32m---> 11\u001b[0m     \u001b[38;5;28;01mif\u001b[39;00m \u001b[43mh\u001b[49m(x) \u001b[38;5;241m>\u001b[39m \u001b[38;5;241m0\u001b[39m:\n\u001b[0;32m     12\u001b[0m         b0 \u001b[38;5;241m=\u001b[39m x\n\u001b[0;32m     13\u001b[0m     \u001b[38;5;28;01melif\u001b[39;00m h(x) \u001b[38;5;241m<\u001b[39m \u001b[38;5;241m0\u001b[39m:\n",
      "\u001b[1;31mNameError\u001b[0m: name 'h' is not defined"
     ]
    }
   ],
   "source": [
    "bisectionMethod(0, 2, 0.3)"
   ]
  },
  {
   "cell_type": "code",
   "execution_count": 25,
   "id": "b9d1623c",
   "metadata": {},
   "outputs": [],
   "source": [
    "def NewtonMethod(f, g, h, x0, x1):\n",
    "    while "
   ]
  },
  {
   "cell_type": "code",
   "execution_count": null,
   "id": "d35adc0a",
   "metadata": {},
   "outputs": [],
   "source": []
  }
 ],
 "metadata": {
  "kernelspec": {
   "display_name": "Python 3 (ipykernel)",
   "language": "python",
   "name": "python3"
  },
  "language_info": {
   "codemirror_mode": {
    "name": "ipython",
    "version": 3
   },
   "file_extension": ".py",
   "mimetype": "text/x-python",
   "name": "python",
   "nbconvert_exporter": "python",
   "pygments_lexer": "ipython3",
   "version": "3.9.12"
  },
  "vscode": {
   "interpreter": {
    "hash": "c5def6a4c04ea58ce3a8d735c7eed334c74da8d04699e4992213db263ddecce5"
   }
  }
 },
 "nbformat": 4,
 "nbformat_minor": 5
}
