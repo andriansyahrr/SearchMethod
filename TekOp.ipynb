{
 "cells": [
  {
   "cell_type": "code",
   "execution_count": 2,
   "id": "462b5aad",
   "metadata": {},
   "outputs": [],
   "source": [
    "import numpy as np\n",
    "#x = symbols('x')\n",
    "# p = 0.382\n",
    "# Interval1 = 0\n",
    "# Interval2 = 2\n",
    "# range = 0.3"
   ]
  },
  {
   "cell_type": "code",
   "execution_count": 3,
   "id": "63b76551",
   "metadata": {},
   "outputs": [],
   "source": [
    "from sympy import *\n",
    "x = Symbol('x')\n",
    "f = x**4 - 14*x**3+60*x**2-70*x"
   ]
  },
  {
   "cell_type": "code",
   "execution_count": 4,
   "id": "b6250d02",
   "metadata": {},
   "outputs": [],
   "source": [
    "def CheckConvergence(p, initial0, initial1, accur):\n",
    "    N = 1\n",
    "    while ((1-p)**N) >= (accur/(initial1 - initial0)):\n",
    "        N+=1\n",
    "    return N "
   ]
  },
  {
   "cell_type": "code",
   "execution_count": 5,
   "id": "5d7b21a3",
   "metadata": {
    "scrolled": true
   },
   "outputs": [],
   "source": [
    "def GoldenSectionMethod(a0, b0, accur):\n",
    "    p = 0.382\n",
    "    j = CheckConvergence(p, a0, b0, accur)\n",
    "    print(\"First init\")\n",
    "    i=1\n",
    "    a1 = a0 + p*(b0-a0)\n",
    "    b1 = a0 + (1-p)*(b0-a0)\n",
    "    if f.evalf(subs={x:a1}) < f.evalf(subs={x:b1}):\n",
    "        print('Interval f(a1) = {:.3f} < f(b1) = {:.3f}'.format(f.evalf(subs={x:a1}), f.evalf(subs={x:b1})))\n",
    "        b0 = b1\n",
    "        b1 = a1\n",
    "        a1 = a0 + p*(b0-a0)\n",
    "    else:\n",
    "        print('Interval f.evalf(subs={x:a1}) = {:.3f} > f(b1) = {:.3f}'.format(f.evalf(subs={x:a1}), f.evalf(subs={x:b1})))\n",
    "        a0 = a1\n",
    "        a1 = b1\n",
    "        b1 = a0 + (1-p)*(b0-a0) \n",
    "    print(i, a0, a1, b1, b0)\n",
    "    print(f.evalf(subs={x:a1}), f.evalf(subs={x:b1}))\n",
    "    i += 1\n",
    "    while i<=j:\n",
    "        if f.evalf(subs={x:a1}) < f.evalf(subs={x:b1}):\n",
    "            print('Interval f(a1) = {:.3f} < f(b1) = {:.3f}'.format(f.evalf(subs={x:a1}), f.evalf(subs={x:b1})))\n",
    "            b0 = b1\n",
    "            b1 = a1\n",
    "            a1 = a0 + p*(b0-a0)\n",
    "            print(i, a0, a1, b1, b0)\n",
    "            print(f.evalf(subs={x:a1}), f.evalf(subs={x:b1}))\n",
    "        else:\n",
    "            print('Interval f(a1) = {:.3f} > f(b1) = {:.3f}'.format(f.evalf(subs={x:a1}), f.evalf(subs={x:b1})))\n",
    "            a0 = a1\n",
    "            a1 = b1\n",
    "            b1 = a0 + (1-p)*(b0-a0)\n",
    "            print(i,a0, a1, b1, b0)\n",
    "            print(f.evalf(subs={x:a1}), f.evalf(subs={x:b1}))\n",
    "        i+=1\n",
    "    print(\"Hasil akhir di interval [{:.3f}, {:.3f}]\".format(a0, b0))"
   ]
  },
  {
   "cell_type": "code",
   "execution_count": 6,
   "id": "e4ace639",
   "metadata": {
    "scrolled": true
   },
   "outputs": [
    {
     "name": "stdout",
     "output_type": "stream",
     "text": [
      "First init\n",
      "Interval f(a1) = -24.361 < f(b1) = -18.960\n",
      "1 0 0.472152 0.764 1.236\n",
      "-21.0988720416718 -24.3607513955840\n",
      "Interval f(a1) = -21.099 > f(b1) = -24.361\n",
      "2 0.472152 0.764 0.944210064 1.236\n",
      "-24.3607513955840 -23.5930326660056\n",
      "Interval f(a1) = -24.361 < f(b1) = -23.593\n",
      "3 0.472152 0.652478180448 0.764 0.944210064\n",
      "-23.8374551192420 -24.3607513955840\n",
      "Interval f(a1) = -23.837 > f(b1) = -24.361\n",
      "4 0.652478180448 0.764 0.832768484483136 0.944210064\n",
      "-24.3607513955840 -24.2880343522899\n",
      "Hasil akhir di interval [0.652, 0.944]\n"
     ]
    }
   ],
   "source": [
    "GoldenSectionMethod(0, 2, 0.3)"
   ]
  },
  {
   "cell_type": "code",
   "execution_count": 7,
   "id": "936023f8",
   "metadata": {},
   "outputs": [],
   "source": [
    "def CheckConvergenceFSM(e, initial0, initial1, accur):  \n",
    "    fib = [1]*30\n",
    "    for i in range(2, 30):\n",
    "        fib[i] = fib[i-1] + fib[i-2]\n",
    "    n = 1\n",
    "    while fib[n+1]<=(1 + 2*e)/(accur/(initial1 - initial0)):\n",
    "        n+=1\n",
    "    return int(n)"
   ]
  },
  {
   "cell_type": "code",
   "execution_count": 8,
   "id": "46f71fbb",
   "metadata": {},
   "outputs": [],
   "source": [
    "def FiboSearchMethod(e, a0, b0, accur):\n",
    "    n = CheckConvergenceFSM(e, a0, b0, accur)\n",
    "    m = n\n",
    "    i = 1\n",
    "    j = 0\n",
    "    k = 0\n",
    "    fib = [1]*30\n",
    "    p = [0]*(n-1)\n",
    "    for i in range(2, 30):\n",
    "        fib[i] = fib[i-1] + fib[i-2]\n",
    "    while n-1 >= 1:\n",
    "        p[j] = 1 - (fib[n-1]/fib[n])\n",
    "        if j == m-2:\n",
    "            p[j] -= e\n",
    "        n-=1\n",
    "        j+=1\n",
    "    i=1\n",
    "    if k == 0:\n",
    "        a1 = a0 + p[k]*(b0-a0)\n",
    "        b1 = a0 + (1-p[k])*(b0-a0)\n",
    "        if f.evalf(subs={x:a1}) < f.evalf(subs={x:b1}):\n",
    "            b0 = b1\n",
    "            b1 = a1\n",
    "            a1 = a0 + p[k]*(b0-a0)\n",
    "        else:\n",
    "            a0 = a1\n",
    "            a1 = b1\n",
    "            b1 = a0 + (1-p[k])*(b0-a0)\n",
    "        print('p[{}] = {:.3f}'. format(k, p[k]))\n",
    "        print(i, a0, a1, b1, b0)\n",
    "        print(f.evalf(subs={x:a1}), f.evalf(subs={x:b1}))\n",
    "        print('Interval [{:.3f}, {:.3f}]'.format(a0, b0))\n",
    "        k += 1\n",
    "        i += 1\n",
    "    while k < j:\n",
    "        print('p[{}] = {:.3f}'. format(k, p[k]))\n",
    "        if f.evalf(subs={x:a1}) < f.evalf(subs={x:b1}):\n",
    "          b0 = b1\n",
    "          b1 = a1\n",
    "          a1 = a0 + p[k]*(b0-a0)\n",
    "          print(i, a0, a1, b1, b0)\n",
    "          print(f.evalf(subs={x:a1}), f.evalf(subs={x:b1}))\n",
    "          k+=1\n",
    "          i+=1\n",
    "        else:\n",
    "          a0 = a1\n",
    "          a1 = b1\n",
    "          b1 = a0 + (1-p[k])*(b0-a0)\n",
    "          print(i,a0, a1, b1, b0)\n",
    "          print(f.evalf(subs={x:a1}), f.evalf(subs={x:b1}))\n",
    "          k+=1\n",
    "          i+=1\n",
    "        print(\"Hasil akhir di interval [{:.3f}, {:.3f}]\".format(a0, b0))"
   ]
  },
  {
   "cell_type": "code",
   "execution_count": 9,
   "id": "4cd09191",
   "metadata": {},
   "outputs": [
    {
     "name": "stdout",
     "output_type": "stream",
     "text": [
      "p[0] = 0.375\n",
      "1 0 0.46875 0.75 1.25\n",
      "-21.0225820541382 -24.3398437500000\n",
      "Interval [0.000, 1.250]\n",
      "p[1] = 0.400\n",
      "2 0.46875 0.75 0.9375 1.25\n",
      "-24.3398437500000 -23.6537933349609\n",
      "Hasil akhir di interval [0.469, 1.250]\n",
      "p[2] = 0.333\n",
      "3 0.46875 0.625 0.75 0.9375\n",
      "-23.5778808593750 -24.3398437500000\n",
      "Hasil akhir di interval [0.469, 0.938]\n",
      "p[3] = 0.400\n",
      "4 0.625 0.75 0.8125 0.9375\n",
      "-24.3398437500000 -24.3390960693359\n",
      "Hasil akhir di interval [0.625, 0.938]\n"
     ]
    }
   ],
   "source": [
    "FiboSearchMethod(0.1, 0, 2, 0.3)"
   ]
  },
  {
   "cell_type": "code",
   "execution_count": 10,
   "id": "d484ac62",
   "metadata": {},
   "outputs": [],
   "source": [
    "g = diff(f, x, 1)\n",
    "h = diff(f, x, 2)"
   ]
  },
  {
   "cell_type": "code",
   "execution_count": 24,
   "id": "a4c9e785",
   "metadata": {},
   "outputs": [],
   "source": [
    "def CheckConvergence(p, initial0, initial1, accur):\n",
    "    N = 1\n",
    "    while ((1-p)**N) >= (accur/(initial1 - initial0)):\n",
    "        N+=1\n",
    "    return N \n",
    "def bisectionMethod(a0, b0, accur):\n",
    "    j = CheckConvergence(0.5, a0, b0, accur)\n",
    "    i = 1\n",
    "    while i <= j:\n",
    "        x0 = (a0 + b0)/2\n",
    "        if g.evalf(subs={x:x0}) > 0:\n",
    "            b0 = x0\n",
    "#         if h(x) > 0:\n",
    "#             b0 = x\n",
    "        elif g.evalf(subs={x:x0}) < 0:\n",
    "            a0 = x0\n",
    "#         elif h(x) < 0:\n",
    "#             a0 = x\n",
    "        else:\n",
    "            break\n",
    "        i+=1\n",
    "        print(\"Interval iterasi ke-{:} : [{:.3f}, {:.3f}]\". format(i-1, a0, b0))"
   ]
  },
  {
   "cell_type": "code",
   "execution_count": 25,
   "id": "afaaf91c",
   "metadata": {
    "scrolled": true
   },
   "outputs": [
    {
     "name": "stdout",
     "output_type": "stream",
     "text": [
      "Interval iterasi ke-1 : [0.000, 1.000]\n",
      "Interval iterasi ke-2 : [0.500, 1.000]\n",
      "Interval iterasi ke-3 : [0.750, 1.000]\n"
     ]
    }
   ],
   "source": [
    "bisectionMethod(0, 2, 0.3)"
   ]
  },
  {
   "cell_type": "code",
   "execution_count": 13,
   "id": "b9d1623c",
   "metadata": {},
   "outputs": [],
   "source": [
    "#  CheckConvergence(p, initial0, initial1, accur):\n",
    "#Kurang convergencenya\n",
    "\n",
    "def NewtonMethod(initial0, initial1, N):\n",
    "    i =0\n",
    "    x0 = 1/2 * (initial1 - initial0)\n",
    "    i+=1\n",
    "    while i <= N:\n",
    "        x0 = x0 - ((g.evalf(subs={x:x0}))/ h.evalf(subs={x:x0}))\n",
    "        print(\"x_{:} = {:.3f}\".format(i, x0))\n",
    "        i += 1"
   ]
  },
  {
   "cell_type": "code",
   "execution_count": 14,
   "id": "9b240578",
   "metadata": {},
   "outputs": [
    {
     "name": "stdout",
     "output_type": "stream",
     "text": [
      "x_1 = 0.747\n",
      "x_2 = 0.780\n",
      "x_3 = 0.781\n"
     ]
    }
   ],
   "source": [
    "NewtonMethod(0,1,3)"
   ]
  },
  {
   "cell_type": "code",
   "execution_count": 15,
   "id": "f68cb365",
   "metadata": {},
   "outputs": [],
   "source": [
    "# Secant Method\n",
    "# fddot = (g.evalf(subs={x:x1}) - (g.evalf(subs={x:x0}))/(x1 - x0)\n",
    "# x2 = x1 -((g.evalf(subs={x:x1}))*(x1 - x0))/(g.evalf(subs={x:x1}) - g.evalf(subs={x:x0}) )\n",
    "# x2 = (g.evalf(subs={x:x1})*x0 - g.evalf(subs={x:x1})*x1)/(g.evalf(subs={x:x1}) - g.evalf(subs={x:x0}))"
   ]
  },
  {
   "cell_type": "code",
   "execution_count": null,
   "id": "6117bf32",
   "metadata": {},
   "outputs": [],
   "source": []
  }
 ],
 "metadata": {
  "kernelspec": {
   "display_name": "Python 3 (ipykernel)",
   "language": "python",
   "name": "python3"
  },
  "language_info": {
   "codemirror_mode": {
    "name": "ipython",
    "version": 3
   },
   "file_extension": ".py",
   "mimetype": "text/x-python",
   "name": "python",
   "nbconvert_exporter": "python",
   "pygments_lexer": "ipython3",
   "version": "3.9.12"
  },
  "vscode": {
   "interpreter": {
    "hash": "c5def6a4c04ea58ce3a8d735c7eed334c74da8d04699e4992213db263ddecce5"
   }
  }
 },
 "nbformat": 4,
 "nbformat_minor": 5
}
