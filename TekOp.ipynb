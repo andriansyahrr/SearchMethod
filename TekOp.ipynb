{
 "cells": [
  {
   "cell_type": "code",
   "execution_count": 49,
   "id": "462b5aad",
   "metadata": {},
   "outputs": [],
   "source": [
    "import numpy as np\n",
    "#x = symbols('x')\n",
    "# p = 0.382\n",
    "# Interval1 = 0\n",
    "# Interval2 = 2\n",
    "# range = 0.3"
   ]
  },
  {
   "cell_type": "code",
   "execution_count": 50,
   "id": "63b76551",
   "metadata": {},
   "outputs": [],
   "source": [
    "# x1 = float(input(\"masukkan nilai x1: \"))\n",
    "# x2 = float(input(\"masukkan nilai x2: \"))\n",
    "from sympy import *\n",
    "# x = Symbol('x')\n",
    "# f = x**4 - 14*x**3+60*x**2-70*x\n",
    "def f(x):\n",
    "    return x**4 - 14*x**3+60*x**2-70*x\n",
    "# print(f(x1))\n",
    "# print(f(x2))\n",
    "# print(g(x1))\n",
    "# print(g(x2))"
   ]
  },
  {
   "cell_type": "code",
   "execution_count": 51,
   "id": "b6250d02",
   "metadata": {},
   "outputs": [],
   "source": [
    "def CheckConvergence(p, initial0, initial1, accur):\n",
    "    N = 1\n",
    "    while ((1-p)**N) >= (accur/(initial1 - initial0)):\n",
    "        N+=1\n",
    "    return N "
   ]
  },
  {
   "cell_type": "code",
   "execution_count": 52,
   "id": "5d7b21a3",
   "metadata": {
    "scrolled": true
   },
   "outputs": [],
   "source": [
    "def GoldenSectionMethod(a0, b0, accur):\n",
    "    p = 0.382\n",
    "    j = CheckConvergence(p, a0, b0, accur)\n",
    "    print(\"First init\")\n",
    "    i=1\n",
    "    if i == 1:\n",
    "            a1 = a0 + p*(b0-a0)\n",
    "            b1 = a0 + (1-p)*(b0-a0)\n",
    "            if f(a1) < f(b1):\n",
    "                b0 = b1\n",
    "                b1 = a1\n",
    "                a1 = a0 + p*(b0-a0)\n",
    "            else:\n",
    "                a0 = a1\n",
    "                a1 = b1\n",
    "                b1 = a0 + (1-p)*(b0-a0)\n",
    "            print(i, a0, a1, b1, b0)\n",
    "            print(f(a1), f(b1))\n",
    "            print('Interval [{:.3f}, {:.3f}]'.format(a0, b0))\n",
    "            i +=1\n",
    "    while i<=j:\n",
    "        if f(a1) < f(b1):\n",
    "            b0 = b1\n",
    "            b1 = a1\n",
    "            a1 = a0 + p*(b0-a0)\n",
    "            print(i, a0, a1, b1, b0)\n",
    "            print(f(a1), f(b1))\n",
    "            print('Interval [{:.3f}, {:.3f}]'.format(a0, b0))\n",
    "        else:\n",
    "            a0 = a1\n",
    "            a1 = b1\n",
    "            b1 = a0 + (1-p)*(b0-a0)\n",
    "            print(i,a0, a1, b1, b0)\n",
    "            print(f(a1), f(b1))\n",
    "            print('Interval [{:.3f}, {:.3f}]'.format(a0, b0))\n",
    "        i+=1\n",
    "    print(\"Hasil akhir di interval [{:.3f}, {:.3f}]\".format(a0, b0))"
   ]
  },
  {
   "cell_type": "code",
   "execution_count": 53,
   "id": "e4ace639",
   "metadata": {
    "scrolled": true
   },
   "outputs": [
    {
     "name": "stdout",
     "output_type": "stream",
     "text": [
      "First init\n",
      "1 0 0.472152 0.764 1.236\n",
      "-21.098872041671836 -24.360751395584003\n",
      "Interval [0.000, 1.236]\n",
      "2 0.472152 0.764 0.944210064 1.236\n",
      "-24.360751395584003 -23.5930326660056\n",
      "Interval [0.472, 1.236]\n",
      "3 0.472152 0.652478180448 0.764 0.944210064\n",
      "-23.837455119242016 -24.360751395584003\n",
      "Interval [0.472, 0.944]\n",
      "4 0.652478180448 0.764 0.832768484483136 0.944210064\n",
      "-24.360751395584003 -24.288034352289884\n",
      "Interval [0.652, 0.944]\n",
      "Hasil akhir di interval [0.652, 0.944]\n"
     ]
    }
   ],
   "source": [
    "GoldenSectionMethod(0, 2, 0.3)"
   ]
  },
  {
   "cell_type": "code",
   "execution_count": 54,
   "id": "936023f8",
   "metadata": {},
   "outputs": [],
   "source": [
    "def CheckConvergenceFSM(e, initial0, initial1, accur):  \n",
    "    fib = [1]*30\n",
    "    for i in range(2, 30):\n",
    "        fib[i] = fib[i-1] + fib[i-2]\n",
    "    n = 1\n",
    "    while fib[n+1]<=(1 + 2*e)/(accur/(initial1 - initial0)):\n",
    "        n+=1\n",
    "    return int(n)"
   ]
  },
  {
   "cell_type": "code",
   "execution_count": 55,
   "id": "46f71fbb",
   "metadata": {},
   "outputs": [],
   "source": [
    "def FiboSearchMethod(e, a0, b0, accur):\n",
    "    n = CheckConvergenceFSM(e, a0, b0, accur)\n",
    "    m = n\n",
    "    i = 1\n",
    "    j = 0\n",
    "    k = 0\n",
    "    fib = [1]*30\n",
    "    p = [0]*(n-1)\n",
    "    for i in range(2, 30):\n",
    "        fib[i] = fib[i-1] + fib[i-2]\n",
    "    while n-1 >= 1:\n",
    "        print(n, j, m)\n",
    "        p[j] = 1 - (fib[n-1]/fib[n])\n",
    "        if j == m-2:\n",
    "            p[j] -= e\n",
    "        n-=1\n",
    "        j+=1\n",
    "    i=1\n",
    "    if k == 0:\n",
    "        a1 = a0 + p[k]*(b0-a0)\n",
    "        b1 = a0 + (1-p[k])*(b0-a0)\n",
    "        if f(a1) < f(b1):\n",
    "            b0 = b1\n",
    "            b1 = a1\n",
    "            a1 = a0 + p[k]*(b0-a0)\n",
    "        else:\n",
    "            a0 = a1\n",
    "            a1 = b1\n",
    "            b1 = a0 + (1-p[k])*(b0-a0)\n",
    "        print('p[{}] = {:.3f}'. format(k, p[k]))\n",
    "        print(i, a0, a1, b1, b0)\n",
    "        print(f(a1), f(b1))\n",
    "        print('Interval [{:.3f}, {:.3f}]'.format(a0, b0))\n",
    "        k += 1\n",
    "        i += 1\n",
    "    while k < j:\n",
    "        print('p[{}] = {:.3f}'. format(k, p[k]))\n",
    "        if f(a1) < f(b1):\n",
    "          b0 = b1\n",
    "          b1 = a1\n",
    "          a1 = a0 + p[k]*(b0-a0)\n",
    "          print(i, a0, a1, b1, b0)\n",
    "          print(f(a1), f(b1))\n",
    "          k+=1\n",
    "          i+=1\n",
    "        else:\n",
    "          a0 = a1\n",
    "          a1 = b1\n",
    "          b1 = a0 + (1-p[k])*(b0-a0)\n",
    "          print(i,a0, a1, b1, b0)\n",
    "          print(f(a1), f(b1))\n",
    "          k+=1\n",
    "          i+=1\n",
    "        print(\"Hasil akhir di interval [{:.3f}, {:.3f}]\".format(a0, b0))"
   ]
  },
  {
   "cell_type": "code",
   "execution_count": 56,
   "id": "4cd09191",
   "metadata": {},
   "outputs": [
    {
     "name": "stdout",
     "output_type": "stream",
     "text": [
      "5 0 5\n",
      "4 1 5\n",
      "3 2 5\n",
      "2 3 5\n",
      "p[0] = 0.375\n",
      "1 0 0.46875 0.75 1.25\n",
      "-21.022582054138184 -24.33984375\n",
      "Interval [0.000, 1.250]\n",
      "p[1] = 0.400\n",
      "2 0.46875 0.75 0.9375 1.25\n",
      "-24.33984375 -23.653793334960938\n",
      "Hasil akhir di interval [0.469, 1.250]\n",
      "p[2] = 0.333\n",
      "3 0.46875 0.625 0.75 0.9375\n",
      "-23.577880859375 -24.33984375\n",
      "Hasil akhir di interval [0.469, 0.938]\n",
      "p[3] = 0.400\n",
      "4 0.625 0.75 0.8125 0.9375\n",
      "-24.33984375 -24.339096069335938\n",
      "Hasil akhir di interval [0.625, 0.938]\n"
     ]
    }
   ],
   "source": [
    "FiboSearchMethod(0.1, 0, 2, 0.3)"
   ]
  },
  {
   "cell_type": "code",
   "execution_count": 57,
   "id": "d484ac62",
   "metadata": {},
   "outputs": [],
   "source": [
    "x = Symbol('x')\n",
    "f = x**4 - 14*x**3+60*x**2-70*x\n",
    "g = lambdify(x, f)"
   ]
  },
  {
   "cell_type": "code",
   "execution_count": 58,
   "id": "a4c9e785",
   "metadata": {},
   "outputs": [],
   "source": [
    "def CheckConvergence(p, initial0, initial1, accur):\n",
    "    N = 1\n",
    "    while ((1-p)**N) >= (accur/(initial1 - initial0)):\n",
    "        N+=1\n",
    "    return N \n",
    "def bisectionMethod(a0, b0, accur):\n",
    "    j = CheckConvergence(0.5, a0, b0, accur)\n",
    "    i = 1\n",
    "    while i <= j:\n",
    "        x = (a0 + b0)/2\n",
    "        if g(x) > 0:\n",
    "            b0 = x\n",
    "        elif g(x) < 0:\n",
    "            a0 = x\n",
    "        else:\n",
    "            break\n",
    "        i+=1\n",
    "        print(a0, b0)"
   ]
  },
  {
   "cell_type": "code",
   "execution_count": 59,
   "id": "afaaf91c",
   "metadata": {
    "scrolled": true
   },
   "outputs": [
    {
     "name": "stdout",
     "output_type": "stream",
     "text": [
      "1.0 2\n",
      "1.5 2\n",
      "1.75 2\n"
     ]
    }
   ],
   "source": [
    "bisectionMethod(0, 2, 0.3)"
   ]
  },
  {
   "cell_type": "code",
   "execution_count": 60,
   "id": "b9d1623c",
   "metadata": {},
   "outputs": [],
   "source": [
    "# def NewtonMethod(f, g, h, x0, x1):\n",
    "#     while  :="
   ]
  }
 ],
 "metadata": {
  "kernelspec": {
   "display_name": "Python 3.9.12 64-bit",
   "language": "python",
   "name": "python3"
  },
  "language_info": {
   "codemirror_mode": {
    "name": "ipython",
    "version": 3
   },
   "file_extension": ".py",
   "mimetype": "text/x-python",
   "name": "python",
   "nbconvert_exporter": "python",
   "pygments_lexer": "ipython3",
   "version": "3.9.12"
  },
  "vscode": {
   "interpreter": {
    "hash": "c5def6a4c04ea58ce3a8d735c7eed334c74da8d04699e4992213db263ddecce5"
   }
  }
 },
 "nbformat": 4,
 "nbformat_minor": 5
}
